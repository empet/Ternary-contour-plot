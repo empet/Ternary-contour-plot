{
 "cells": [
  {
   "cell_type": "markdown",
   "metadata": {},
   "source": [
    "## Plotly ternary contour plot"
   ]
  },
  {
   "cell_type": "markdown",
   "metadata": {},
   "source": [
    "2d point position can be  given in a cartesian, polar or  barycentric system of  coordinates.\n",
    "Ternary plots work in barycentric coordinates.\n",
    "\n",
    "Given a triangle of vertices $V_k$, $k=0, 1, 2$, indexed such that the sequence $V_0, V_1, V_2$ is run in counter-clockwise\n",
    "direction, like in the figure below, then each 2D point, $P$, can be expressed as a barycentric combination of the vertices:\n",
    "$$P=aV_0+bV_1+cV_2,$$ with $a+b+c=1$. The scalars $a, b, c$ are called barycentric coordinates of the point P\n",
    "with respect to the given triangle."
   ]
  },
  {
   "cell_type": "code",
   "execution_count": 1,
   "metadata": {},
   "outputs": [
    {
     "data": {
      "image/svg+xml": [
       "<svg height=\"235.439pt\" version=\"1.1\" viewBox=\"56.6209 54.0603 284.528 235.439\" width=\"284.528pt\" xmlns=\"http://www.w3.org/2000/svg\" xmlns:xlink=\"http://www.w3.org/1999/xlink\">\n",
       "<defs>\n",
       "<path d=\"M4.66251 3.48613C4.66251 3.44309 4.66251 3.41439 4.41863 3.17051C2.98401 1.72154 2.18062 -0.645579 2.18062 -3.5722C2.18062 -6.35536 2.85489 -8.75118 4.51905 -10.444C4.66251 -10.5731 4.66251 -10.6018 4.66251 -10.6449C4.66251 -10.731 4.59078 -10.7596 4.5334 -10.7596C4.3469 -10.7596 3.17051 -9.72672 2.46755 -8.32079C1.73589 -6.87183 1.40593 -5.33678 1.40593 -3.5722C1.40593 -2.29539 1.60677 -0.588194 2.35278 0.946849C3.1992 2.66839 4.37559 3.6009 4.5334 3.6009C4.59078 3.6009 4.66251 3.5722 4.66251 3.48613Z\" id=\"g3-40\"/>\n",
       "<path d=\"M4.04563 -3.5722C4.04563 -4.66251 3.90217 -6.44144 3.09878 -8.1056C2.25235 -9.82714 1.07596 -10.7596 0.918157 -10.7596C0.860772 -10.7596 0.789041 -10.731 0.789041 -10.6449C0.789041 -10.6018 0.789041 -10.5731 1.03293 -10.3293C2.46755 -8.8803 3.27093 -6.51317 3.27093 -3.58655C3.27093 -0.803387 2.59666 1.59243 0.932503 3.28528C0.789041 3.41439 0.789041 3.44309 0.789041 3.48613C0.789041 3.5722 0.860772 3.6009 0.918157 3.6009C1.10466 3.6009 2.28105 2.56797 2.98401 1.16204C3.71566 -0.30127 4.04563 -1.85066 4.04563 -3.5722Z\" id=\"g3-41\"/>\n",
       "<path d=\"M5.27024 -3.17808C5.27024 -4.14446 5.26027 -6.52553 2.85928 -6.52553S0.448319 -4.15442 0.448319 -3.17808C0.448319 -2.19178 0.458281 0.109589 2.85928 0.109589C5.25031 0.109589 5.27024 -2.18182 5.27024 -3.17808ZM2.85928 -0.249066C2.50062 -0.249066 1.94271 -0.468244 1.8132 -1.19552C1.72354 -1.71357 1.72354 -2.74969 1.72354 -3.29763C1.72354 -4.01494 1.72354 -4.66252 1.80324 -5.18057C1.92279 -6.06725 2.62017 -6.16687 2.85928 -6.16687C3.2279 -6.16687 3.63636 -5.97758 3.82565 -5.53923C3.99502 -5.17061 3.99502 -4.11457 3.99502 -3.29763C3.99502 -2.73973 3.99502 -1.83313 3.92528 -1.31507C3.7858 -0.388543 3.15816 -0.249066 2.85928 -0.249066Z\" id=\"g0-48\"/>\n",
       "<path d=\"M3.52677 -6.20672C3.52677 -6.4259 3.52677 -6.52553 3.26775 -6.52553C3.15816 -6.52553 3.13823 -6.52553 3.04857 -6.45579C2.28144 -5.88792 1.25529 -5.88792 1.04608 -5.88792H0.846824V-5.41968H1.04608C1.20548 -5.41968 1.75342 -5.42964 2.34122 -5.61893V-0.468244H0.956413V0C1.39477 -0.0298879 2.45081 -0.0298879 2.93898 -0.0298879S4.48319 -0.0298879 4.92154 0V-0.468244H3.52677V-6.20672Z\" id=\"g0-49\"/>\n",
       "<path d=\"M5.15068 -2.21171H4.68244C4.65255 -2.01245 4.56289 -1.37484 4.42341 -1.30511C4.31382 -1.24533 3.56663 -1.24533 3.40722 -1.24533H1.94271C2.41096 -1.63387 2.92902 -2.06227 3.37733 -2.39103C4.51308 -3.2279 5.15068 -3.69614 5.15068 -4.64259C5.15068 -5.78829 4.11457 -6.52553 2.70984 -6.52553C1.50436 -6.52553 0.56787 -5.90785 0.56787 -5.01121C0.56787 -4.42341 1.04608 -4.27397 1.28518 -4.27397C1.60399 -4.27397 2.00249 -4.49315 2.00249 -4.99128C2.00249 -5.50934 1.58406 -5.66874 1.43462 -5.70859C1.72354 -5.9477 2.10212 -6.05729 2.46077 -6.05729C3.31756 -6.05729 3.77584 -5.37983 3.77584 -4.63263C3.77584 -3.94521 3.39726 -3.26775 2.69988 -2.5604L0.697385 -0.518057C0.56787 -0.398506 0.56787 -0.37858 0.56787 -0.179328V0H4.84184L5.15068 -2.21171Z\" id=\"g0-50\"/>\n",
       "<path d=\"M11.2187 -4.87771C11.2187 -7.9191 9.23895 -10.0136 6.05409 -10.0136C2.85489 -10.0136 0.889464 -7.90475 0.889464 -4.87771S2.89793 0.172154 6.05409 0.172154S11.2187 -1.85066 11.2187 -4.87771ZM6.05409 -0.373001C5.12159 -0.373001 4.21778 -0.817733 3.67263 -1.63547C2.98401 -2.68274 2.91228 -4.03128 2.91228 -5.07855C2.91228 -5.95367 2.95532 -7.15875 3.54351 -8.13429C4.17474 -9.13853 5.20767 -9.49718 6.05409 -9.49718C7.21614 -9.49718 8.07691 -8.8803 8.49295 -8.23472C9.02376 -7.40264 9.19591 -6.51317 9.19591 -5.07855C9.19591 -3.65828 9.0381 -2.46755 8.32079 -1.47766C7.96214 -0.989888 7.1731 -0.373001 6.05409 -0.373001Z\" id=\"g1-79\"/>\n",
       "<path d=\"M10.3866 -8.89464C10.4727 -9.08114 10.5301 -9.2246 11.5917 -9.2246H11.8356V-9.84149C11.3909 -9.8128 10.358 -9.8128 10.2432 -9.8128C9.84149 -9.8128 8.82291 -9.8128 8.49295 -9.84149V-9.2246C8.80856 -9.2246 9.33937 -9.2246 9.74107 -9.0668L9.66934 -8.86595L6.72837 -2.15193L3.62959 -9.2246H4.96378V-9.84149C4.50471 -9.8128 3.12747 -9.8128 2.58232 -9.8128C2.12324 -9.8128 0.702964 -9.8128 0.344309 -9.84149V-9.2246H1.63547L5.59502 -0.172154C5.72413 0.11477 5.85325 0.129116 6.08279 0.129116S6.45579 0.129116 6.5849 -0.172154L10.3866 -8.89464Z\" id=\"g1-86\"/>\n",
       "<path d=\"M4.83467 -3.54351L6.49883 -5.45155C6.65663 -5.63805 6.78575 -5.75282 7.97648 -5.75282V-6.36971C7.1731 -6.34102 7.14441 -6.34102 6.65663 -6.34102C6.2406 -6.34102 5.62371 -6.34102 5.22202 -6.36971V-5.75282C5.49459 -5.75282 5.79586 -5.68109 5.79586 -5.58067C5.79586 -5.55198 5.72413 -5.45155 5.69544 -5.42286L4.44732 -4.01693L3.02705 -5.75282H3.62959V-6.36971C3.29963 -6.34102 2.32408 -6.34102 1.93674 -6.34102C1.50635 -6.34102 0.731656 -6.34102 0.329963 -6.36971V-5.75282H1.34854L3.58655 -3.02705L1.72154 -0.918157C1.54939 -0.71731 1.44897 -0.616886 0.258232 -0.616886V0C1.119 -0.0286924 1.1477 -0.0286924 1.59243 -0.0286924C2.00847 -0.0286924 2.61101 -0.0286924 3.0127 0V-0.616886C2.74012 -0.616886 2.43885 -0.688617 2.43885 -0.789041C2.43885 -0.803387 2.43885 -0.817733 2.53928 -0.932503L3.9739 -2.55362L5.56632 -0.616886H4.96378V0C5.30809 -0.0286924 6.26929 -0.0286924 6.67098 -0.0286924C7.10137 -0.0286924 7.86172 -0.0286924 8.26341 0V-0.616886H7.25918L4.83467 -3.54351Z\" id=\"g1-120\"/>\n",
       "<path d=\"M7.10137 -5.43721C7.18744 -5.63805 7.24483 -5.75282 8.16299 -5.75282V-6.36971C7.67521 -6.34102 7.61783 -6.34102 7.02964 -6.34102C6.64229 -6.34102 6.6136 -6.34102 5.79586 -6.36971V-5.75282C5.81021 -5.75282 6.48448 -5.75282 6.48448 -5.56632C6.48448 -5.52329 6.44144 -5.43721 6.4271 -5.39417L4.74859 -1.77893L2.91228 -5.75282H3.70132V-6.36971C3.35701 -6.34102 2.38147 -6.34102 1.97978 -6.34102C1.56374 -6.34102 0.71731 -6.34102 0.344309 -6.36971V-5.75282H1.26247L3.91651 0C3.84478 0.172154 3.64393 0.588194 3.5722 0.760348C3.27093 1.40593 2.81185 2.39581 1.80762 2.39581C1.75024 2.39581 1.57808 2.39581 1.42027 2.30974C1.44897 2.29539 1.87935 2.12324 1.87935 1.57808C1.87935 1.10466 1.53504 0.803387 1.10466 0.803387C0.659925 0.803387 0.315616 1.10466 0.315616 1.59243C0.315616 2.2667 0.946849 2.86924 1.80762 2.86924C2.98401 2.86924 3.7587 1.80762 4.04563 1.17639L7.10137 -5.43721Z\" id=\"g1-121\"/>\n",
       "<path d=\"M2.79751 0.0573848C2.79751 -0.774695 2.52493 -1.39158 1.93674 -1.39158C1.47766 -1.39158 1.24812 -1.01858 1.24812 -0.702964S1.46331 0 1.95108 0C2.13758 0 2.29539 -0.0573848 2.42451 -0.186501C2.4532 -0.215193 2.46755 -0.215193 2.48189 -0.215193C2.51058 -0.215193 2.51058 -0.0143462 2.51058 0.0573848C2.51058 0.530809 2.42451 1.46331 1.59243 2.39581C1.43462 2.56797 1.43462 2.59666 1.43462 2.62535C1.43462 2.69708 1.50635 2.76882 1.57808 2.76882C1.69285 2.76882 2.79751 1.7072 2.79751 0.0573848Z\" id=\"g2-59\"/>\n",
       "<path d=\"M4.24647 -4.56209H6.65663C8.63641 -4.56209 10.6162 -6.0254 10.6162 -7.66087C10.6162 -8.77987 9.66934 -9.79845 7.86172 -9.79845H3.42874C3.15616 -9.79845 3.02705 -9.79845 3.02705 -9.52587C3.02705 -9.38241 3.15616 -9.38241 3.37136 -9.38241C4.24647 -9.38241 4.24647 -9.26764 4.24647 -9.10983C4.24647 -9.08114 4.24647 -8.99506 4.18909 -8.77987L2.25235 -1.06162C2.12324 -0.559502 2.09454 -0.41604 1.09031 -0.41604C0.817733 -0.41604 0.674271 -0.41604 0.674271 -0.157808C0.674271 0 0.803387 0 0.889464 0C1.16204 0 1.44897 -0.0286924 1.72154 -0.0286924H3.40005C3.67263 -0.0286924 3.9739 0 4.24647 0C4.36124 0 4.51905 0 4.51905 -0.272578C4.51905 -0.41604 4.38994 -0.41604 4.17474 -0.41604C3.31397 -0.41604 3.29963 -0.516463 3.29963 -0.659925C3.29963 -0.731656 3.31397 -0.832079 3.32832 -0.90381L4.24647 -4.56209ZM5.2794 -8.82291C5.40852 -9.35372 5.4659 -9.38241 6.0254 -9.38241H7.44568C8.52164 -9.38241 9.4111 -9.0381 9.4111 -7.96214C9.4111 -7.58914 9.2246 -6.36971 8.56468 -5.70979C8.32079 -5.45155 7.63218 -4.9064 6.32667 -4.9064H4.30386L5.2794 -8.82291Z\" id=\"g2-80\"/>\n",
       "<path d=\"M4.3182 -1.7072C4.24647 -1.46331 4.24647 -1.43462 4.04563 -1.16204C3.73001 -0.760348 3.09878 -0.143462 2.42451 -0.143462C1.83631 -0.143462 1.50635 -0.674271 1.50635 -1.5207C1.50635 -2.30974 1.95108 -3.91651 2.22366 -4.51905C2.71143 -5.52329 3.3857 -6.03975 3.9452 -6.03975C4.89205 -6.03975 5.07855 -4.86336 5.07855 -4.74859C5.07855 -4.73424 5.03551 -4.54774 5.02117 -4.51905L4.3182 -1.7072ZM5.23636 -5.37982C5.07855 -5.75282 4.69121 -6.32667 3.9452 -6.32667C2.32408 -6.32667 0.573848 -4.23213 0.573848 -2.10889C0.573848 -0.688617 1.40593 0.143462 2.38147 0.143462C3.17051 0.143462 3.84478 -0.473424 4.24647 -0.946849C4.38994 -0.100423 5.06421 0.143462 5.49459 0.143462S6.26929 -0.11477 6.52752 -0.631233C6.75706 -1.119 6.9579 -1.99412 6.9579 -2.05151C6.9579 -2.12324 6.90052 -2.18062 6.81444 -2.18062C6.68533 -2.18062 6.67098 -2.10889 6.6136 -1.8937C6.3984 -1.04727 6.12583 -0.143462 5.53763 -0.143462C5.12159 -0.143462 5.0929 -0.516463 5.0929 -0.803387C5.0929 -1.13335 5.13594 -1.29116 5.26505 -1.85066C5.36548 -2.20931 5.43721 -2.52493 5.55198 -2.94097C6.08279 -5.0929 6.2119 -5.60936 6.2119 -5.69544C6.2119 -5.89629 6.05409 -6.05409 5.8389 -6.05409C5.37982 -6.05409 5.26505 -5.55198 5.23636 -5.37982Z\" id=\"g2-97\"/>\n",
       "<path d=\"M3.31397 -9.5976C3.32832 -9.65499 3.35701 -9.74107 3.35701 -9.8128C3.35701 -9.95626 3.21355 -9.95626 3.18486 -9.95626C3.17051 -9.95626 2.65405 -9.91322 2.39581 -9.88453C2.15193 -9.87018 1.93674 -9.84149 1.6785 -9.82714C1.3342 -9.79845 1.23377 -9.78411 1.23377 -9.52587C1.23377 -9.38241 1.37723 -9.38241 1.5207 -9.38241C2.25235 -9.38241 2.25235 -9.2533 2.25235 -9.10983C2.25235 -9.00941 2.13758 -8.59337 2.0802 -8.33514L1.73589 -6.9579C1.59243 -6.38406 0.774695 -3.12747 0.71731 -2.86924C0.645579 -2.51058 0.645579 -2.2667 0.645579 -2.0802C0.645579 -0.616886 1.46331 0.143462 2.39581 0.143462C4.05997 0.143462 5.78152 -1.99412 5.78152 -4.07432C5.78152 -5.39417 5.03551 -6.32667 3.95955 -6.32667C3.21355 -6.32667 2.53928 -5.70979 2.2667 -5.42286L3.31397 -9.5976ZM2.41016 -0.143462C1.95108 -0.143462 1.44897 -0.487771 1.44897 -1.60677C1.44897 -2.0802 1.492 -2.35278 1.75024 -3.35701C1.79327 -3.54351 2.02281 -4.46167 2.0802 -4.64817C2.10889 -4.76294 2.95532 -6.03975 3.93086 -6.03975C4.56209 -6.03975 4.84901 -5.40852 4.84901 -4.66251C4.84901 -3.9739 4.44732 -2.35278 4.08867 -1.60677C3.73001 -0.832079 3.07009 -0.143462 2.41016 -0.143462Z\" id=\"g2-98\"/>\n",
       "<path d=\"M5.60936 -5.39417C5.33678 -5.39417 5.20767 -5.39417 5.00682 -5.22202C4.92075 -5.15028 4.76294 -4.93509 4.76294 -4.70555C4.76294 -4.41863 4.97813 -4.24647 5.25071 -4.24647C5.59502 -4.24647 5.98236 -4.5334 5.98236 -5.10725C5.98236 -5.79586 5.32244 -6.32667 4.33255 -6.32667C2.4532 -6.32667 0.573848 -4.27517 0.573848 -2.23801C0.573848 -0.989888 1.34854 0.143462 2.81185 0.143462C4.76294 0.143462 5.99671 -1.37723 5.99671 -1.56374C5.99671 -1.64981 5.91063 -1.72154 5.85325 -1.72154C5.81021 -1.72154 5.79586 -1.7072 5.66675 -1.57808C4.74859 -0.358655 3.3857 -0.143462 2.84055 -0.143462C1.85066 -0.143462 1.53504 -1.00423 1.53504 -1.72154C1.53504 -2.22366 1.77893 -3.61524 2.29539 -4.59078C2.66839 -5.26505 3.44309 -6.03975 4.3469 -6.03975C4.5334 -6.03975 5.32244 -6.01106 5.60936 -5.39417Z\" id=\"g2-99\"/>\n",
       "</defs>\n",
       "<g id=\"page1\">\n",
       "<g transform=\"matrix(0.996264 0 0 0.996264 87.7773 257.05)\">\n",
       "<path d=\"M 228.998 0L -30.8832 -0\" fill=\"none\" stroke=\"#000000\" stroke-linecap=\"round\" stroke-linejoin=\"round\" stroke-miterlimit=\"10.0375\" stroke-width=\"1.2045\"/>\n",
       "</g>\n",
       "<g transform=\"matrix(0.996264 0 0 0.996264 87.7773 257.05)\">\n",
       "<path d=\"M 247.066 3.21779e-15L 228.998 -4.84117L 228.998 4.84117L 247.066 3.21779e-15Z\" fill=\"#000000\"/>\n",
       "</g>\n",
       "<g transform=\"matrix(0.996264 0 0 0.996264 87.7773 257.05)\">\n",
       "<path d=\"M 247.066 3.21779e-15L 228.998 -4.84117L 228.998 4.84117L 247.066 3.21779e-15Z\" fill=\"none\" stroke=\"#000000\" stroke-linecap=\"round\" stroke-linejoin=\"round\" stroke-miterlimit=\"10.0375\" stroke-width=\"1.2045\"/>\n",
       "</g>\n",
       "<g transform=\"matrix(0.996264 0 0 0.996264 87.7773 257.05)\">\n",
       "<path d=\"M 0 -179.585L 0 30.8832\" fill=\"none\" stroke=\"#000000\" stroke-linecap=\"round\" stroke-linejoin=\"round\" stroke-miterlimit=\"10.0375\" stroke-width=\"1.2045\"/>\n",
       "</g>\n",
       "<g transform=\"matrix(0.996264 0 0 0.996264 87.7773 257.05)\">\n",
       "<path d=\"M 1.39298e-17 -197.653L -4.84117 -179.585L 4.84117 -179.585L 1.39298e-17 -197.653Z\" fill=\"#000000\"/>\n",
       "</g>\n",
       "<g transform=\"matrix(0.996264 0 0 0.996264 87.7773 257.05)\">\n",
       "<path d=\"M 1.39298e-17 -197.653L -4.84117 -179.585L 4.84117 -179.585L 1.39298e-17 -197.653Z\" fill=\"none\" stroke=\"#000000\" stroke-linecap=\"round\" stroke-linejoin=\"round\" stroke-miterlimit=\"10.0375\" stroke-width=\"1.2045\"/>\n",
       "</g><use x=\"329.665\" xlink:href=\"#g1-120\" y=\"267.551\"/>\n",
       "<use x=\"74.8546\" xlink:href=\"#g1-121\" y=\"61.8691\"/>\n",
       "<use x=\"72.7012\" xlink:href=\"#g1-79\" y=\"269.792\"/>\n",
       "\n",
       "<g transform=\"matrix(0.996264 0 0 0.996264 87.7773 257.05)\">\n",
       "<path d=\"M 37.0599 -37.0599L 160.593 -37.0599L 98.8264 -144.039L 37.0599 -37.0599Z\" fill=\"none\" stroke=\"#000000\" stroke-linecap=\"round\" stroke-linejoin=\"round\" stroke-miterlimit=\"10.0375\" stroke-width=\"1.2045\"/>\n",
       "</g>\n",
       "<g transform=\"matrix(0.996264 0 0 0.996264 87.7773 257.05)\">\n",
       "<circle cx=\"86.4731\" cy=\"-55.5898\" fill=\"#ff0000\" r=\"2.0075\"/>\n",
       "</g><g fill=\"#ff0000\">\n",
       "<use x=\"146.977\" xlink:href=\"#g2-80\" y=\"193.837\"/>\n",
       "<use x=\"157.948\" xlink:href=\"#g3-40\" y=\"193.837\"/>\n",
       "<use x=\"163.391\" xlink:href=\"#g2-97\" y=\"193.837\"/>\n",
       "<use x=\"170.737\" xlink:href=\"#g2-59\" y=\"193.837\"/>\n",
       "<use x=\"177.015\" xlink:href=\"#g2-98\" y=\"193.837\"/>\n",
       "<use x=\"182.966\" xlink:href=\"#g2-59\" y=\"193.837\"/>\n",
       "<use x=\"189.244\" xlink:href=\"#g2-99\" y=\"193.837\"/>\n",
       "<use x=\"195.267\" xlink:href=\"#g3-41\" y=\"193.837\"/>\n",
       "</g>\n",
       "<use x=\"177.031\" xlink:href=\"#g1-86\" y=\"107.153\"/>\n",
       "<use x=\"189.173\" xlink:href=\"#g0-48\" y=\"109.305\"/>\n",
       "<use x=\"103.33\" xlink:href=\"#g1-86\" y=\"232.871\"/>\n",
       "<use x=\"115.472\" xlink:href=\"#g0-49\" y=\"235.023\"/>\n",
       "<use x=\"250.733\" xlink:href=\"#g1-86\" y=\"232.871\"/>\n",
       "<use x=\"262.875\" xlink:href=\"#g0-50\" y=\"235.023\"/>\n",
       "</g>\n",
       "</svg>"
      ],
      "text/plain": [
       "<IPython.core.display.SVG object>"
      ]
     },
     "execution_count": 1,
     "metadata": {},
     "output_type": "execute_result"
    }
   ],
   "source": [
    "from IPython.display import SVG\n",
    "SVG(filename='Data/triangle.svg')"
   ]
  },
  {
   "cell_type": "markdown",
   "metadata": {},
   "source": [
    "All points within the triangular region, bounded by the reference triangle, have positive barycentric coordinates, i.e.\n",
    "$a, b, c\\geq 0$, $a+b+c=1$.\n",
    "\n",
    "A ternary plot is a scatter plot of n points in a triangular region, represented  by their barycentric coordinates with respect to that triangle.\n",
    "\n",
    "\n",
    "Ternary plot is used to represent  triplets of values of\n",
    " three dependent positive variables $A, B, C$, whose sum is a constant, $k$. Scaling each variable we get $\\displaystyle\\frac{1}{k}A+\\displaystyle\\frac{1}{k}B+\\displaystyle\\frac{1}{k}C=1$.\n",
    "Hence n normalized triplets interpreted as values of a variable $Y=\\left(\\displaystyle\\frac{1}{k}A, \\displaystyle\\frac{1}{k}B, \\displaystyle\\frac{1}{k}C\\right)$ can be interpreted as barycentric coordinates with respect to a triangle, and can be represented by points in a   triangular region, i.e. as a scatter ternary plot. In most cases the constant $k$ is 100, and a, b, c represent the percent of parts in a composition of three elements.\n",
    "\n",
    "The reference triangle in a ternary plot is, by convention, an equilateral triangle. \n",
    "\n",
    "\n",
    "If the triangle vertices, $V_k$, have the cartesian coordinates $(x_k, y_k)$, $k=0, 1, 2$, and a point $P$ has the barycentric coordinates $(a, b, c)$, then its cartesian coordinates, $P(x,y)$, are derived  from this relation:\n",
    "    $$\\left[\\begin{array}{c} x\\\\y\\\\1\\end{array}\\right ]= \\left(\\begin{array}{ccc}x_0&x_1&x_2\\\\y_0&y_1&y_2\\\\1&1&1\\end{array}\\right)\\left[\\begin{array}{c} a\\\\b\\\\c\\end{array}\\right ]$$\n",
    "\n"
   ]
  },
  {
   "cell_type": "markdown",
   "metadata": {},
   "source": [
    "A ternary contour plot is the contour plot of a function $z=f(a, b, c)$, $a, b, c \\geq 0$, $a+b+c=1$, \n",
    "i.e. a function of positive barycentric coordinates."
   ]
  },
  {
   "cell_type": "markdown",
   "metadata": {},
   "source": [
    "Plotly provides a `scatterternary` trace, but a  ternary contour trace that maps z-values to a continuous colorscale is not introduced yet."
   ]
  },
  {
   "cell_type": "markdown",
   "metadata": {},
   "source": [
    "Task:\n",
    "\n",
    "*Given n points of  barycentric coordinates, (a, b, c), with respect to an equilateral triangle of vertices $V_k(x_k, y_k)$, $k=0, 1, 2$,  and n values\n",
    "in a list or array, z, extract data for a Plotly ternary contour plot or heatmap*. \n",
    "\n",
    "Since these Plotly traces work only in cartesian coordinates\n",
    "we proceed as follows:\n",
    "\n",
    "- compute the cartesian coordinates, (x, y), of the  given points from their barycentric coordinates, via the above tranformation;\n",
    "\n",
    "- define a meshgrid on the rectangle $[min(x), max(x)] \\times [min(y), max(y)]$;\n",
    "\n",
    "- interpolate  data  (x, y; z) and evaluate the interpolatory function at the meshgrid points to get an array, `grid_z`;\n",
    "\n",
    "- compute the   barycentric coordinates of the meshgrid points, and associate a `nan` value to `grid_z` where at least one of these barycentric coordinates is negative (i.e. insert `nan` in the position of points that are outside the reference triangle).\n",
    "\n",
    "- define a contour type trace from  `grid_z`"
   ]
  },
  {
   "cell_type": "code",
   "execution_count": 2,
   "metadata": {},
   "outputs": [
    {
     "name": "stdout",
     "output_type": "stream",
     "text": [
      "Python version: 3.6.4\n",
      "Plotly version: 3.4.0\n"
     ]
    }
   ],
   "source": [
    "import platform\n",
    "import plotly\n",
    "print(f'Python version: {platform.python_version()}')\n",
    "print(f'Plotly version: {plotly.__version__}')"
   ]
  },
  {
   "cell_type": "code",
   "execution_count": 3,
   "metadata": {},
   "outputs": [],
   "source": [
    "import plotly.graph_objs as go\n",
    "import numpy as np\n",
    "from scipy.interpolate import griddata"
   ]
  },
  {
   "cell_type": "markdown",
   "metadata": {},
   "source": [
    "Define  data for a ternary contour plot:"
   ]
  },
  {
   "cell_type": "code",
   "execution_count": 4,
   "metadata": {},
   "outputs": [
    {
     "data": {
      "text/plain": [
       "array([1., 1., 1., 1., 1., 1., 1., 1., 1., 1., 1., 1., 1.])"
      ]
     },
     "execution_count": 4,
     "metadata": {},
     "output_type": "execute_result"
    }
   ],
   "source": [
    "A = np.array([0, .3 ,.25, .34 ,0, .4 ,.65, 0.05,  0,  1, .47, .2, .7])  #pos 10 1, 0, 0\n",
    "B = np.array([1, .1, .45, .56, 0, .5, .3,  0.75, .85, 0,  .33, .3, .13])\n",
    "C = np.array([0, .6 ,.3,  .1,  1, .1, .05,  .2,  .15, 0,  .2,  .5, .17])\n",
    "\n",
    "z=np.array([1.27036107, 1.27893858, 0.52255697, 1.50035059, 0.84853798,\n",
    "       1.27722501, 1.20920733, 0.88965008, 0.59293362, 0.9223051 ,\n",
    "       1.57173859, 1.33606612, 1.08977333])\n",
    "A+B+C"
   ]
  },
  {
   "cell_type": "markdown",
   "metadata": {},
   "source": [
    "**Note** that to get a full triangle contour plot the initial data must contain the vertex points and values z at these points.\n",
    "Otherwise the contour plot will be generated in a subregion of the triangular one!!!!"
   ]
  },
  {
   "cell_type": "markdown",
   "metadata": {},
   "source": [
    "To get acquainted with Plotly ternary axes we first plot the points $(a_j, b_j, c_j)$, with  $a_j \\in A, b_j\\in B, c_j\\in C$, $j\\in\\{0, 1, \\ldots, 12\\}$:"
   ]
  },
  {
   "cell_type": "code",
   "execution_count": 5,
   "metadata": {},
   "outputs": [
    {
     "data": {
      "application/vnd.jupyter.widget-view+json": {
       "model_id": "f15d7a595e1446fd84ca860d7390d39f",
       "version_major": 2,
       "version_minor": 0
      },
      "text/plain": [
       "FigureWidget({\n",
       "    'data': [{'a': array([0.  , 0.3 , 0.25, 0.34, 0.  , 0.4 , 0.65, 0.05, 0.  , 1.  , 0.47, 0.2…"
      ]
     },
     "metadata": {},
     "output_type": "display_data"
    }
   ],
   "source": [
    "pl_ternary=dict(type='scatterternary',\n",
    "                a=A,\n",
    "                b=B, \n",
    "                c=C,\n",
    "                mode='markers',\n",
    "                marker=dict(size=10, color='red'))\n",
    "\n",
    "layout=dict(width=500, height=400,\n",
    "            ternary= {'sum':1,\n",
    "                      'aaxis':{'title': 'a',  'min': 0.001, 'linewidth':0.5, 'ticks':'outside' },\n",
    "                      'baxis':{'title': 'b',  'min': 0.001, 'linewidth':0.5, 'ticks':'outside' },\n",
    "                      'caxis':{'title': 'c',  'min': 0.001, 'linewidth':0.5, 'ticks':'outside' }},\n",
    "            showlegend= False,\n",
    "            paper_bgcolor='#EBF0F8')\n",
    "\n",
    "fw=go.FigureWidget(data=[pl_ternary], layout=layout)\n",
    "fw #this plot is visible only when the notebook is run"
   ]
  },
  {
   "cell_type": "markdown",
   "metadata": {},
   "source": [
    "The triangle sides opposite to the vertices marked by a, b, respectively c,  are the lines of 0 barycentric coordinate: a=0, b=0, respectively c=0.\n",
    "Each parallel to such a side has a constant a, b, respectively c coordinate. Notice that the ticks are drawn correspondingly.  "
   ]
  },
  {
   "cell_type": "markdown",
   "metadata": {},
   "source": [
    "### Functions that define elements for plotting a ternary contour plot"
   ]
  },
  {
   "cell_type": "code",
   "execution_count": 6,
   "metadata": {},
   "outputs": [],
   "source": [
    "def tr_b2c2b():\n",
    "    # returns the transformation matrix from barycentric to cartesian coordinates and conversely\n",
    "    tri_verts = np.array([[0.5, np.sqrt(3)/2], [0, 0], [1, 0]])# reference triangle\n",
    "    M = np.array([tri_verts[:,0], tri_verts[:, 1], np.ones(3)]) \n",
    "    return M, np.linalg.inv(M)   "
   ]
  },
  {
   "cell_type": "code",
   "execution_count": 7,
   "metadata": {},
   "outputs": [],
   "source": [
    "def contour_trace(x, y, z, tooltip, \n",
    "                  colorscale='Viridis', reversescale=False,\n",
    "                  linewidth=0.5, linecolor='rgb(150,150,150)'):\n",
    "                  \n",
    "    return  dict(type='contour',\n",
    "                 x=x,\n",
    "                 y=y,    \n",
    "                 z=z,\n",
    "                 text=tooltip,\n",
    "                 hoverinfo='text',    \n",
    "                 colorscale=colorscale,\n",
    "                 reversescale=reversescale,\n",
    "                 line=dict(width=linewidth, color=linecolor),\n",
    "                 colorbar=dict(thickness=20, ticklen=4))"
   ]
  },
  {
   "cell_type": "markdown",
   "metadata": {},
   "source": [
    "As outlined above, our ternary contour is plotted in cartesian coordinates, hence we cannot use the Plotly ternary \n",
    "layout defined for  `scatterternary` trace.\n",
    "We have to define the tick positions and directions in a cartesian system.\n",
    "\n",
    "The next two functions return the barycentric coordinates of tick starting points, respectively the lists of x, and y-coordinates of points that defines the ticks, as well as the position of ticklabels:"
   ]
  },
  {
   "cell_type": "code",
   "execution_count": 8,
   "metadata": {},
   "outputs": [],
   "source": [
    "def barycentric_ticks(side):\n",
    "    # side 0, 1 or  2; side j has 0 in the  j^th position of barycentric coords of tick origin\n",
    "    # returns the list of tick origin barycentric coords\n",
    "    p = 10\n",
    "    if side == 0: #where a=0\n",
    "        return np.array([(0, j/p, 1-j/p) for j in range(p-2, 0, -2)])\n",
    "    elif side == 1: # b=0\n",
    "        return np.array([(i/p, 0, 1-i/p)  for i in  range( 2, p, 2) ])\n",
    "    elif side == 2: #c=0\n",
    "        return np.array([(i/p, j/p, 0)  for i in range(p-2, 0, -2) for j in range(p-i, -1, -1)  if i+j==p])\n",
    "    else:\n",
    "        raise ValueError('The side can be only 0, 1, 2')\n",
    "\n",
    "\n",
    "\n",
    "def cart_coord_ticks(side, t=0.01):\n",
    "    # side 0, 1 or 2\n",
    "    # each tick segment is parameterized as (x(s), y(s)), s in [0, t]\n",
    "    global  M, xt, yt, posx, posy\n",
    "    # M is the transformation matrix from barycentric to cartesian coords\n",
    "    # xt, yt are the lists of x, resp y-coords of tick segments\n",
    "    # posx, posy are the lists of ticklabel positions for side 0, 1, 2 (concatenated)\n",
    "    \n",
    "    baryc = barycentric_ticks(side)\n",
    "    xy1 = np.dot(M, baryc.T)\n",
    "    xs, ys = xy1[:2] \n",
    "    \n",
    "    if side == 0:\n",
    "        for i in range(4):\n",
    "            xt.extend([xs[i], xs[i]+t, None])\n",
    "            yt.extend([ys[i], ys[i]-np.sqrt(3)*t, None])\n",
    "        posx.extend([xs[i]+t for i in range(4)])\n",
    "        posy.extend([ys[i]-np.sqrt(3)*t for i in range(4)])\n",
    "        \n",
    "    elif  side == 1:\n",
    "        for i in range(4):\n",
    "            xt.extend([xs[i], xs[i]+t, None])\n",
    "            yt.extend([ys[i], ys[i]+np.sqrt(3)*t, None])\n",
    "        posx.extend([xs[i]+t for i in range(4)]) \n",
    "        posy.extend([ys[i]+np.sqrt(3)*t for i in range(4)])\n",
    "        \n",
    "    elif side == 2:\n",
    "        for i in range(4):\n",
    "            xt.extend([xs[i], xs[i]-2*t, None])\n",
    "            yt.extend([ys[i], ys[i], None])\n",
    "        posx.extend([xs[i]-2*t for i in range(4)])\n",
    "        posy.extend([ys[i] for i in range(4)]) \n",
    "    else:\n",
    "        raise ValueError('side can be only 0,1,2')"
   ]
  },
  {
   "cell_type": "markdown",
   "metadata": {},
   "source": [
    "Layout definition:"
   ]
  },
  {
   "cell_type": "code",
   "execution_count": 9,
   "metadata": {},
   "outputs": [],
   "source": [
    "def ternary_layout(title='Ternary contour plot', width=550, height=525, \n",
    "                   fontfamily= 'Balto, sans-serif' , lfontsize=14,\n",
    "                   plot_bgcolor='rgb(240,240,240)',\n",
    "                   vertex_text=['a', 'b', 'c'], v_fontsize=14):\n",
    "\n",
    "     return dict(title=title,\n",
    "                 font=dict(family=fontfamily, size=lfontsize),\n",
    "                 width=width, height=height,\n",
    "                 xaxis=dict(visible=False),\n",
    "                 yaxis=dict(visible=False),\n",
    "                 plot_bgcolor=plot_bgcolor,\n",
    "                 showlegend=False,\n",
    "                 #annotations for strings  placed at the triangle vertices\n",
    "                 annotations=[dict(showarrow=False,\n",
    "                                   text=vertex_text[0],\n",
    "                                   x=0.5,\n",
    "                                   y=np.sqrt(3)/2,\n",
    "                                   align='center',\n",
    "                                   xanchor='center',\n",
    "                                   yanchor='bottom',\n",
    "                                   font=dict(size=v_fontsize)),\n",
    "                              dict(showarrow=False,\n",
    "                                   text=vertex_text[1],\n",
    "                                   x=0,\n",
    "                                   y=0,\n",
    "                                   align='left',\n",
    "                                   xanchor='right',\n",
    "                                   yanchor='top',\n",
    "                                   font=dict(size=v_fontsize)),\n",
    "                              dict(showarrow=False,\n",
    "                                   text=vertex_text[2],\n",
    "                                   x=1,\n",
    "                                   y=0,\n",
    "                                   align='right',\n",
    "                                   xanchor='left',\n",
    "                                   yanchor='top',\n",
    "                                   font=dict(size=v_fontsize))\n",
    "                              ])\n",
    "\n"
   ]
  },
  {
   "cell_type": "code",
   "execution_count": 10,
   "metadata": {},
   "outputs": [],
   "source": [
    "def set_ticklabels(annotations, posx, posy, proportion=True):\n",
    "    #annotations: list of annotations previously defined in layout definition as a dict,\n",
    "    #     not as an instance of go.Layout\n",
    "    #posx, posy:  lists containing ticklabel position coordinates\n",
    "    #proportion - boolean; True when ticklabels are 0.2, 0.4, ... False when they are 20%, 40%...\n",
    "    \n",
    "    if not isinstance(annotations, list):\n",
    "        raise ValueError('annotations should be a list')\n",
    "        \n",
    "    ticklabel = [0.8, 0.6, 0.4, 0.2] if proportion else ['80%', '60%', '40%', '20%'] \n",
    "    \n",
    "    annotations.extend([dict(showarrow=False, # annotations for ticklabels on side 0\n",
    "                             text=f'{ticklabel[j]}',\n",
    "                             x=posx[j],\n",
    "                             y=posy[j],\n",
    "                             align='center',\n",
    "                             xanchor='center', \n",
    "                             yanchor='top',\n",
    "                             font=dict(size=12)) for j in range(4)])\n",
    "    \n",
    "    annotations.extend([dict(showarrow=False, # annotations for ticklabels on  side 1\n",
    "                             text=f'{ticklabel[j]}',\n",
    "                             x=posx[j+4],\n",
    "                             y=posy[j+4],\n",
    "                             align='center',\n",
    "                             xanchor='left', \n",
    "                             yanchor='middle',\n",
    "                             font=dict(size=12)) for j in range(4)])\n",
    "\n",
    "    annotations.extend([dict(showarrow=False, # annotations for ticklabels on side 2\n",
    "                             text=f'{ticklabel[j]}',\n",
    "                             x=posx[j+8],\n",
    "                             y=posy[j+8],\n",
    "                             align='center',\n",
    "                             xanchor='right', \n",
    "                             yanchor='middle',\n",
    "                             font=dict(size=12)) for j in range(4)])\n",
    "    return annotations"
   ]
  },
  {
   "cell_type": "code",
   "execution_count": 11,
   "metadata": {},
   "outputs": [],
   "source": [
    "def styling_traces():\n",
    "    global xt, yt\n",
    "    side_trace = dict(type='scatter',\n",
    "                      x=[0.5, 0, 1, 0.5],\n",
    "                      y=[np.sqrt(3)/2, 0, 0, np.sqrt(3)/2],\n",
    "                      mode='lines',\n",
    "                      line=dict(width=2, color='#444444'),\n",
    "                      hoverinfo='none')\n",
    "    \n",
    "    tick_trace = dict(type='scatter',\n",
    "                      x=xt,\n",
    "                      y=yt,\n",
    "                      mode='lines',\n",
    "                      line=dict(width=1, color='#444444'),\n",
    "                      hoverinfo='none')\n",
    "    \n",
    "    return side_trace, tick_trace"
   ]
  },
  {
   "cell_type": "markdown",
   "metadata": {},
   "source": [
    "### Extract and process data for a ternary contour plot"
   ]
  },
  {
   "cell_type": "code",
   "execution_count": 12,
   "metadata": {},
   "outputs": [],
   "source": [
    "M, invM =  tr_b2c2b()"
   ]
  },
  {
   "cell_type": "markdown",
   "metadata": {},
   "source": [
    "Convert the barycentric coordinates of  data points, (a, b, c), to cartesian coordinates:"
   ]
  },
  {
   "cell_type": "code",
   "execution_count": 13,
   "metadata": {},
   "outputs": [],
   "source": [
    "cartes_coord_points = np.einsum('ik, kj -> ij', M, np.stack((A, B, C)))\n",
    "xx, yy = cartes_coord_points[:2]"
   ]
  },
  {
   "cell_type": "code",
   "execution_count": 14,
   "metadata": {},
   "outputs": [],
   "source": [
    "a, b = xx.min(), xx.max()\n",
    "c, d = yy.min(), yy.max()"
   ]
  },
  {
   "cell_type": "markdown",
   "metadata": {},
   "source": [
    "Define a meshgrid on the rectangle [a,b] x [c,d]:"
   ]
  },
  {
   "cell_type": "code",
   "execution_count": 15,
   "metadata": {},
   "outputs": [],
   "source": [
    "N=150\n",
    "gr_x = np.linspace(a,b, N)\n",
    "gr_y = np.linspace(c,d, N)\n",
    "grid_x, grid_y = np.meshgrid(gr_x, gr_y)\n",
    "\n",
    "#interpolate data (cartes_coords[:2].T; z)  and evaluate the  interpolatory function at the meshgrid points to get grid_z\n",
    "grid_z = griddata(cartes_coord_points[:2].T, z, (grid_x, grid_y), method='cubic')"
   ]
  },
  {
   "cell_type": "markdown",
   "metadata": {},
   "source": [
    "Compute the barycentric coordinates of  meshgrid points:"
   ]
  },
  {
   "cell_type": "code",
   "execution_count": 16,
   "metadata": {},
   "outputs": [],
   "source": [
    "bar_coords = np.einsum('ik, kmn -> imn', invM, np.stack((grid_x, grid_y, np.ones(grid_x.shape))))\n",
    "bar_coords[np.where(bar_coords<0)] = None # invalidate the points outside of the reference triangle\n",
    "xy1 = np.einsum('ik, kmn -> imn', M, bar_coords) # recompute back the cartesian coordinates of bar_coords with invalid positions\n",
    "                                               # and extract indices where x are nan\n",
    "\n",
    "I = np.where(np.isnan(xy1[0]))\n",
    "grid_z[I] = None"
   ]
  },
  {
   "cell_type": "markdown",
   "metadata": {},
   "source": [
    "Define the hover text for proportions and percents, i.e. when a hovered point displays a, b, c in [0,1], respectively in [0,100]:"
   ]
  },
  {
   "cell_type": "code",
   "execution_count": 17,
   "metadata": {},
   "outputs": [],
   "source": [
    "# tooltips for  proportions, i.e. a+b+c=1\n",
    "\n",
    "t_proportions = [[f'a: {round(bar_coords[0][i,j], 2)}<br>b: {round(bar_coords[1][i,j], 2)}'+\\\n",
    "                  f'<br>c: {round(1-round(bar_coords[0][i,j], 2)-round(bar_coords[1][i,j], 2), 2)}'+\\\n",
    "                  f'<br>z: {round(grid_z[i,j],2)}'  if ~np.isnan(xy1[0][i,j]) else '' for j in range(N)]\n",
    "                                       for i in range(N)] \n",
    "\n",
    "# tooltips for  percents, i.e. a+b+c=100\n",
    "t_percents=[[f'a: {int(100*bar_coords[0][i,j]+0.5)}<br>b: {int(100*bar_coords[1][i,j]+0.5)}'+\\\n",
    "             f'<br>c: {100-int(100*bar_coords[0][i,j]+0.5)-int(100*bar_coords[1][i,j]+0.5)}'+\\\n",
    "             f'<br>z: {round(grid_z[i,j],2)}'  if ~np.isnan(xy1[0][i,j]) else '' for j in range(N)] \n",
    "                                         for i in range(N)] "
   ]
  },
  {
   "cell_type": "markdown",
   "metadata": {},
   "source": [
    "Colorscale for contour:"
   ]
  },
  {
   "cell_type": "code",
   "execution_count": 18,
   "metadata": {},
   "outputs": [],
   "source": [
    "pl_deep = [[0.0, 'rgb(253, 253, 204)'],\n",
    "           [0.1, 'rgb(201, 235, 177)'],\n",
    "           [0.2, 'rgb(145, 216, 163)'],\n",
    "           [0.3, 'rgb(102, 194, 163)'],\n",
    "           [0.4, 'rgb(81, 168, 162)'],\n",
    "           [0.5, 'rgb(72, 141, 157)'],\n",
    "           [0.6, 'rgb(64, 117, 152)'],\n",
    "           [0.7, 'rgb(61, 90, 146)'],\n",
    "           [0.8, 'rgb(65, 64, 123)'],\n",
    "           [0.9, 'rgb(55, 44, 80)'],\n",
    "           [1.0, 'rgb(39, 26, 44)']]"
   ]
  },
  {
   "cell_type": "markdown",
   "metadata": {},
   "source": [
    "### Ternary contour plot that displays proportions"
   ]
  },
  {
   "cell_type": "code",
   "execution_count": 19,
   "metadata": {},
   "outputs": [],
   "source": [
    "xt = []\n",
    "yt = []\n",
    "posx = []\n",
    "posy = []\n",
    "for side in [0, 1, 2]:\n",
    "    cart_coord_ticks(side, t=0.01)\n",
    "\n",
    "\n",
    "tooltip = t_proportions\n",
    "layout = ternary_layout()\n",
    "annotations = set_ticklabels(layout['annotations'], posx, posy, proportion=True)\n",
    "\n",
    "c_trace = contour_trace(gr_x, gr_y, grid_z, tooltip, colorscale=pl_deep, reversescale=True)\n",
    "side_trace, tick_trace =styling_traces()\n",
    "fw1 = go.FigureWidget(data=[c_trace,  tick_trace, side_trace], layout=layout)\n",
    "fw1.layout.annotations=annotations\n",
    "    \n",
    "#fw1"
   ]
  },
  {
   "cell_type": "code",
   "execution_count": 21,
   "metadata": {},
   "outputs": [
    {
     "data": {
      "text/html": [
       "<iframe id=\"igraph\" scrolling=\"no\" style=\"border:none;\" seamless=\"seamless\" src=\"https://plot.ly/~empet/15009.embed\" height=\"525px\" width=\"550px\"></iframe>"
      ],
      "text/plain": [
       "<plotly.tools.PlotlyDisplay object>"
      ]
     },
     "execution_count": 21,
     "metadata": {},
     "output_type": "execute_result"
    }
   ],
   "source": [
    "import plotly.plotly as py\n",
    "py.sign_in('empet', 'api_key')\n",
    "py.iplot(fw1, filename='ternary1_cont')"
   ]
  },
  {
   "cell_type": "markdown",
   "metadata": {},
   "source": [
    "### Ternary contour plot that displays percents"
   ]
  },
  {
   "cell_type": "markdown",
   "metadata": {},
   "source": [
    "**Note**: When we associate the ternary contour plot to variables, A, B, C, with A+B+C=100, we have to scale each one by \n",
    "    $1./100$,  because the code  works with barycentric coordinates. In this case however we can pass the tooltips corresponding to percents and plot the percents as ticklabels:"
   ]
  },
  {
   "cell_type": "code",
   "execution_count": 22,
   "metadata": {},
   "outputs": [],
   "source": [
    "xt = []\n",
    "yt = []\n",
    "posx = []\n",
    "posy = []\n",
    "for side in [0, 1, 2]:\n",
    "    cart_coord_ticks(side, t=0.01)# set xt, yt posx, posy for this side\n",
    "\n",
    "\n",
    "tooltip = t_percents\n",
    "layout = ternary_layout(title='Ternary contour plot that displays percents')\n",
    "annotations = set_ticklabels(layout['annotations'], posx, posy, proportion=False)\n",
    "\n",
    "c_trace = contour_trace(gr_x, gr_y, grid_z, tooltip, colorscale=pl_deep, reversescale=True)\n",
    "side_trace, tick_trace = styling_traces()\n",
    "fw2 = go.FigureWidget(data=[c_trace,  tick_trace, side_trace], layout=layout)\n",
    "fw2.layout.annotations=annotations\n",
    "#fw2    "
   ]
  },
  {
   "cell_type": "code",
   "execution_count": 23,
   "metadata": {},
   "outputs": [
    {
     "data": {
      "text/html": [
       "<iframe id=\"igraph\" scrolling=\"no\" style=\"border:none;\" seamless=\"seamless\" src=\"https://plot.ly/~empet/15027.embed\" height=\"525px\" width=\"550px\"></iframe>"
      ],
      "text/plain": [
       "<plotly.tools.PlotlyDisplay object>"
      ]
     },
     "execution_count": 23,
     "metadata": {},
     "output_type": "execute_result"
    }
   ],
   "source": [
    "import plotly.plotly as py\n",
    "py.iplot(fw2, filename='ternary2_cont')"
   ]
  },
  {
   "cell_type": "code",
   "execution_count": null,
   "metadata": {},
   "outputs": [],
   "source": []
  }
 ],
 "metadata": {
  "kernelspec": {
   "display_name": "Python 3",
   "language": "python",
   "name": "python3"
  },
  "language_info": {
   "codemirror_mode": {
    "name": "ipython",
    "version": 3
   },
   "file_extension": ".py",
   "mimetype": "text/x-python",
   "name": "python",
   "nbconvert_exporter": "python",
   "pygments_lexer": "ipython3",
   "version": "3.6.4"
  }
 },
 "nbformat": 4,
 "nbformat_minor": 2
}
